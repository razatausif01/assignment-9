{
  "cells": [
    {
      "cell_type": "markdown",
      "source": [
        "1.\tWrite a Python program to check if the given number is a Disarium Number?\n",
        "2.\tWrite a Python program to print all disarium numbers between 1 to 100?\n",
        "3.\tWrite a Python program to check if the given number is Happy Number?\n",
        "4.\tWrite a Python program to print all happy numbers between 1 and 100?\n",
        "5.\tWrite a Python program to determine whether the given number is a Harshad Number?\n",
        "6.\tWrite a Python program to print all pronic numbers between 1 and 100?"
      ],
      "metadata": {
        "id": "en8IwPK8yjv5"
      },
      "id": "en8IwPK8yjv5"
    },
    {
      "cell_type": "markdown",
      "source": [
        "Write a Python program to check if the given number is a Disarium Number?"
      ],
      "metadata": {
        "id": "VmFPIvN9ys32"
      },
      "id": "VmFPIvN9ys32"
    },
    {
      "cell_type": "code",
      "source": [
        " #Python program to check whether a number is Disarium\n",
        "# or not\n",
        "import math\n",
        " \n",
        "# Method to check whether a number is disarium or not\n",
        "def check(n) :\n",
        " \n",
        "    # Count digits in n.\n",
        "    count_digits = len(str(n))\n",
        "      \n",
        "    # Compute sum of terms like digit multiplied by\n",
        "    # power of position\n",
        "    sum = 0  # Initialize sum of terms\n",
        "    x = n\n",
        "    while (x!=0) :\n",
        " \n",
        "        # Get the rightmost digit\n",
        "        r = x % 10\n",
        "          \n",
        "        # Sum the digits by powering according to\n",
        "        # the positions\n",
        "        sum = (int) (sum + math.pow(r, count_digits))\n",
        "        count_digits = count_digits - 1\n",
        "        x = x//10\n",
        "        \n",
        "    # If sum is same as number, then number is\n",
        "    if sum == n :\n",
        "        return 1\n",
        "    else :\n",
        "        return 0\n",
        "       \n",
        "# Driver method\n",
        "n = 135\n",
        "if (check(n) == 1) :\n",
        "    print (\"Disarium Number\")\n",
        "else :\n",
        "    print (\"Not a Disarium Number\")"
      ],
      "metadata": {
        "colab": {
          "base_uri": "https://localhost:8080/"
        },
        "id": "P8_Al4GcyuL0",
        "outputId": "3937f9f2-d3f8-4cc6-942d-383e9b2b9cf1"
      },
      "id": "P8_Al4GcyuL0",
      "execution_count": 1,
      "outputs": [
        {
          "output_type": "stream",
          "name": "stdout",
          "text": [
            "Disarium Number\n"
          ]
        }
      ]
    },
    {
      "cell_type": "markdown",
      "source": [
        "Write a Python program to print all disarium numbers between 1 to 100?"
      ],
      "metadata": {
        "id": "oRLDAcVuzIu4"
      },
      "id": "oRLDAcVuzIu4"
    },
    {
      "cell_type": "code",
      "source": [
        "def length_calculation(my_val):\n",
        "   len_val = 0\n",
        "   while(my_val != 0):\n",
        "      len_val = len_val + 1\n",
        "      my_val = my_val//10\n",
        "   return len_val\n",
        "def digit_sum(my_num):\n",
        "   remaining = sum_val = 0\n",
        "   len_fun = length_calculation(my_num)\n",
        "   while(my_num > 0):\n",
        "      remaining = my_num%10\n",
        "      sum_val = sum_val + (remaining**len_fun)\n",
        "      my_num = my_num//10\n",
        "      len_fun = len_fun - 1\n",
        "   return sum_val\n",
        "ini_result = 0\n",
        "print(\"The disarium numbers between 1 and 100 are : \")\n",
        "for i in range(1, 101):\n",
        "   ini_result = digit_sum(i)\n",
        "   if(ini_result == i):\n",
        "      print(i)"
      ],
      "metadata": {
        "colab": {
          "base_uri": "https://localhost:8080/"
        },
        "id": "Eo3rJZPYzJi9",
        "outputId": "731c9bf4-24eb-4ebc-b806-5b171cf7bcaf"
      },
      "id": "Eo3rJZPYzJi9",
      "execution_count": 2,
      "outputs": [
        {
          "output_type": "stream",
          "name": "stdout",
          "text": [
            "The disarium numbers between 1 and 100 are : \n",
            "1\n",
            "2\n",
            "3\n",
            "4\n",
            "5\n",
            "6\n",
            "7\n",
            "8\n",
            "9\n",
            "89\n"
          ]
        }
      ]
    },
    {
      "cell_type": "markdown",
      "source": [
        "Write a Python program to check if the given number is Happy Number"
      ],
      "metadata": {
        "id": "cC3D5iaezezZ"
      },
      "id": "cC3D5iaezezZ"
    },
    {
      "cell_type": "code",
      "source": [
        "def check_happy_num(my_num):\n",
        "   remaining = sum_val = 0\n",
        "   while(my_num > 0):\n",
        "      remaining = my_num%10\n",
        "      sum_val = sum_val + (remaining*remaining)\n",
        "      my_num = my_num//10\n",
        "   return sum_val;\n",
        "my_num = 86\n",
        "my_result = my_num\n",
        "while(my_result != 1 and my_result != 4):\n",
        "   my_result = check_happy_num(my_result);\n",
        "print(\"The number is being checked\")\n",
        "if(my_result == 1):\n",
        "   print(str(my_num) + \" is a happy number\");\n",
        "elif(my_result == 4):\n",
        "   print(str(my_num) + \" isn't a happy number\");"
      ],
      "metadata": {
        "colab": {
          "base_uri": "https://localhost:8080/"
        },
        "id": "DAA5BzNgzUn9",
        "outputId": "974486fd-1101-44f3-a5e7-04a8d48a9279"
      },
      "id": "DAA5BzNgzUn9",
      "execution_count": 3,
      "outputs": [
        {
          "output_type": "stream",
          "name": "stdout",
          "text": [
            "The number is being checked\n",
            "86 is a happy number\n"
          ]
        }
      ]
    },
    {
      "cell_type": "markdown",
      "source": [
        "Write a Python program to print all happy numbers between 1 and 100?"
      ],
      "metadata": {
        "id": "x62EyyIGz2uH"
      },
      "id": "x62EyyIGz2uH"
    },
    {
      "cell_type": "code",
      "source": [
        "#isHappyNumber() will determine whether a number is happy or not    \n",
        "def isHappyNumber(num):    \n",
        "    rem = sum = 0;    \n",
        "        \n",
        "    #Calculates the sum of squares of digits    \n",
        "    while(num > 0):    \n",
        "        rem = num%10;    \n",
        "        sum = sum + (rem*rem);    \n",
        "        num = num//10;    \n",
        "    return sum;    \n",
        "            \n",
        "#Displays all happy numbers between 1 and 100    \n",
        "print(\"List of happy numbers between 1 and 100: \");    \n",
        "for i in range(1, 101):    \n",
        "    result = i;    \n",
        "        \n",
        "    #Happy number always ends with 1 and     \n",
        "    #unhappy number ends in a cycle of repeating numbers which contains 4    \n",
        "    while(result != 1 and result != 4):    \n",
        "        result = isHappyNumber(result);    \n",
        "        \n",
        "    if(result == 1):    \n",
        "        print(i),    \n",
        "        print(\" \"),   "
      ],
      "metadata": {
        "colab": {
          "base_uri": "https://localhost:8080/"
        },
        "id": "RG3v-9PZznPm",
        "outputId": "1ec72278-3878-434d-cb16-202c705fb11e"
      },
      "id": "RG3v-9PZznPm",
      "execution_count": 4,
      "outputs": [
        {
          "output_type": "stream",
          "name": "stdout",
          "text": [
            "List of happy numbers between 1 and 100: \n",
            "1\n",
            " \n",
            "7\n",
            " \n",
            "10\n",
            " \n",
            "13\n",
            " \n",
            "19\n",
            " \n",
            "23\n",
            " \n",
            "28\n",
            " \n",
            "31\n",
            " \n",
            "32\n",
            " \n",
            "44\n",
            " \n",
            "49\n",
            " \n",
            "68\n",
            " \n",
            "70\n",
            " \n",
            "79\n",
            " \n",
            "82\n",
            " \n",
            "86\n",
            " \n",
            "91\n",
            " \n",
            "94\n",
            " \n",
            "97\n",
            " \n",
            "100\n",
            " \n"
          ]
        }
      ]
    },
    {
      "cell_type": "markdown",
      "source": [
        "Write a Python program to determine whether the given number is a Harshad Number"
      ],
      "metadata": {
        "id": "ET1OnE990K1i"
      },
      "id": "ET1OnE990K1i"
    },
    {
      "cell_type": "code",
      "source": [
        "Number = int(input(\"Enter the Number to Check Harshad Number = \"))\n",
        "Sum = 0\n",
        "rem = 0\n",
        "\n",
        "Temp = Number\n",
        "while Temp > 0:\n",
        "    rem = Temp % 10\n",
        "    Sum = Sum + rem\n",
        "    Temp = Temp // 10\n",
        "\n",
        "print(\"The Sum of the Digits = %d\" %Sum)\n",
        "\n",
        "if Number % Sum == 0:\n",
        "    print(\"\\n%d is a Harshad Number.\" %Number)\n",
        "else:\n",
        "    print(\"%d is Not a Harshad Number.\" %Number)"
      ],
      "metadata": {
        "colab": {
          "base_uri": "https://localhost:8080/"
        },
        "id": "E2LHB94a0AQ1",
        "outputId": "016d404f-58d9-4cbe-e846-95bfb0fc78e0"
      },
      "id": "E2LHB94a0AQ1",
      "execution_count": 5,
      "outputs": [
        {
          "output_type": "stream",
          "name": "stdout",
          "text": [
            "Enter the Number to Check Harshad Number = 234\n",
            "The Sum of the Digits = 9\n",
            "\n",
            "234 is a Harshad Number.\n"
          ]
        }
      ]
    },
    {
      "cell_type": "code",
      "source": [
        ""
      ],
      "metadata": {
        "id": "g_orhiMd0aFs"
      },
      "id": "g_orhiMd0aFs",
      "execution_count": null,
      "outputs": []
    }
  ],
  "metadata": {
    "kernelspec": {
      "display_name": "Python 3 (ipykernel)",
      "language": "python",
      "name": "python3"
    },
    "language_info": {
      "codemirror_mode": {
        "name": "ipython",
        "version": 3
      },
      "file_extension": ".py",
      "mimetype": "text/x-python",
      "name": "python",
      "nbconvert_exporter": "python",
      "pygments_lexer": "ipython3",
      "version": "3.9.7"
    },
    "colab": {
      "name": "Assignment_9.ipynb",
      "provenance": []
    }
  },
  "nbformat": 4,
  "nbformat_minor": 5
}